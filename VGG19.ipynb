{
 "cells": [
  {
   "cell_type": "code",
   "execution_count": null,
   "metadata": {},
   "outputs": [],
   "source": [
    "import os\n",
    "os.environ[\"KERAS_BACKEND\"] = \"tensorflow\" # or \"jax\" or \"torch\"\n",
    "import keras\n",
    "print(keras.backend.backend())"
   ]
  },
  {
   "cell_type": "markdown",
   "metadata": {},
   "source": [
    "# Architektur\n",
    "Die Architektur ist sehr straigt forward und die einzige Klinigkeit ist, dass man sich ausrechnen muss welchen padding man braucht. \n",
    "In diesem Fall ist es genau 1. Tensorflow kann dies aber selber inferieren. "
   ]
  },
  {
   "cell_type": "markdown",
   "metadata": {},
   "source": [
    "![alt text](VGG-19.png)"
   ]
  },
  {
   "cell_type": "code",
   "execution_count": null,
   "metadata": {},
   "outputs": [],
   "source": [
    "import keras.layers as l"
   ]
  },
  {
   "cell_type": "code",
   "execution_count": null,
   "metadata": {},
   "outputs": [],
   "source": [
    "INPUT_SHAPE = (224, 224, 3)\n",
    "NUM_CLASSES = 1000  # Image Net Challenge"
   ]
  },
  {
   "cell_type": "code",
   "execution_count": null,
   "metadata": {},
   "outputs": [],
   "source": [
    "layers = [\n",
    "    l.Input(INPUT_SHAPE),\n",
    "    # Block 1\n",
    "    l.Conv2D(64, (3, 3), activation='relu', padding='same', name='block1_conv1'),\n",
    "    l.Conv2D(64, (3, 3), activation='relu', padding='same', name='block1_conv2'),\n",
    "    l.MaxPooling2D((2, 2), strides=(2, 2), name='block1_pool'),\n",
    "\n",
    "    # Block 2\n",
    "    l.Conv2D(128, (3, 3), activation='relu', padding='same', name='block2_conv1'),\n",
    "    l.Conv2D(128, (3, 3), activation='relu', padding='same', name='block2_conv2'),\n",
    "    l.MaxPooling2D((2, 2), strides=(2, 2), name='block2_pool'),\n",
    "\n",
    "    # Block 3\n",
    "    l.Conv2D(256, (3, 3), activation='relu', padding='same', name='block3_conv1'),\n",
    "    l.Conv2D(256, (3, 3), activation='relu', padding='same', name='block3_conv2'),\n",
    "    l.Conv2D(256, (3, 3), activation='relu', padding='same', name='block3_conv3'),\n",
    "    l.Conv2D(256, (3, 3), activation='relu', padding='same', name='block3_conv4'),\n",
    "    l.MaxPooling2D((2, 2), strides=(2, 2), name='block3_pool'),\n",
    "\n",
    "    # Block 4\n",
    "    l.Conv2D(512, (3, 3), activation='relu', padding='same', name='block4_conv1'),\n",
    "    l.Conv2D(512, (3, 3), activation='relu', padding='same', name='block4_conv2'),\n",
    "    l.Conv2D(512, (3, 3), activation='relu', padding='same', name='block4_conv3'),\n",
    "    l.Conv2D(512, (3, 3), activation='relu', padding='same', name='block4_conv4'),\n",
    "    l.MaxPooling2D((2, 2), strides=(2, 2), name='block4_pool'),\n",
    "\n",
    "    # Block 5\n",
    "    l.Conv2D(512, (3, 3), activation='relu', padding='same', name='block5_conv1'),\n",
    "    l.Conv2D(512, (3, 3), activation='relu', padding='same', name='block5_conv2'),\n",
    "    l.Conv2D(512, (3, 3), activation='relu', padding='same', name='block5_conv3'),\n",
    "    l.Conv2D(512, (3, 3), activation='relu', padding='same', name='block5_conv4'),\n",
    "    l.MaxPooling2D((2, 2), strides=(2, 2), name='block5_pool'),\n",
    "\n",
    "    # Classification block\n",
    "    l.Flatten(),\n",
    "    l.Dense(4096, activation='relu', name='fc1'),\n",
    "    l.Dense(4096, activation='relu', name='fc2'),\n",
    "    l.Dense(NUM_CLASSES, activation='softmax', name='predictions')\n",
    "]\n",
    "\n",
    "VGG19 = keras.Sequential(layers=layers)"
   ]
  },
  {
   "cell_type": "code",
   "execution_count": null,
   "metadata": {},
   "outputs": [],
   "source": [
    "VGG19.compile(\n",
    "    optimizer=keras.optimizers.Adam(learning_rate=1e-3),\n",
    "    loss=keras.losses.CategoricalCrossentropy(),  # multiclass classifications, one hot encoding\n",
    "    metrics=[\n",
    "        keras.metrics.F1Score(),\n",
    "        keras.metrics.Accuracy(),\n",
    "    ],\n",
    ")\n",
    "\n",
    "VGG19.summary()"
   ]
  },
  {
   "cell_type": "code",
   "execution_count": null,
   "metadata": {},
   "outputs": [],
   "source": []
  }
 ],
 "metadata": {
  "kernelspec": {
   "display_name": "tf-backend",
   "language": "python",
   "name": "python3"
  },
  "language_info": {
   "codemirror_mode": {
    "name": "ipython",
    "version": 3
   },
   "file_extension": ".py",
   "mimetype": "text/x-python",
   "name": "python",
   "nbconvert_exporter": "python",
   "pygments_lexer": "ipython3",
   "version": "3.11.8"
  }
 },
 "nbformat": 4,
 "nbformat_minor": 2
}
