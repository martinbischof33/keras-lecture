{
 "cells": [
  {
   "cell_type": "markdown",
   "metadata": {},
   "source": [
    "# How to get started\n",
    "Kears ist seit kurzem in der Version 3.x und supported nun auch PyTorch (und JAX?!) neben Tnsorflow. Für alle die linux oder mac beutzen ist in diesem Repo ein kleiner bash script angehängt um den start zu vereinfachen. Details wurden in der Präsentation besprochen.\n",
    "\n",
    "## Warum PyTorch\n",
    "PyTorch ist bisschen anders als Tensorflow. Es ist vor allem für Researchen gedacht. TF benutzt statische Graphen und PyTorch dynamische Graphen.\n",
    "Das wichtigste Unterschied ist aber die Syntax. PyTorch hat eine Syntax die für die meisten python entwickler einfacher zum verstehen ist.\n",
    "\n",
    "## Warum Tensorflow\n",
    "Tensorflow ist nach wie vor **die** beste Library, wenn es um deployment geht. In der Praxis sollen entwickelte Modelle auch mal an irgendeinem Gerät oder hinter einer API laufen. Tensorflow bietet hier die breiteste und beste Auswahl out of the box ohne größeren Aufwand.\n",
    " - Tensorflow serving (docker basiert)\n",
    " - TPU support (RPI)\n",
    " - Tensorflow Lite für SoCs\n",
    " - Tensorflow JS für Webentwickler"
   ]
  },
  {
   "cell_type": "code",
   "execution_count": null,
   "metadata": {},
   "outputs": [],
   "source": [
    "import os\n",
    "os.environ[\"KERAS_BACKEND\"] = \"tensorflow\" # or \"jax\" or \"torch\"\n",
    "import keras\n",
    "print(keras.backend.backend())"
   ]
  },
  {
   "cell_type": "markdown",
   "metadata": {},
   "source": [
    "## Sequential API\n",
    "entweder gibt man dem model am Anfang eine Liste von Layers oder man benutzt die `.add(layer)` methode"
   ]
  },
  {
   "cell_type": "code",
   "execution_count": null,
   "metadata": {},
   "outputs": [],
   "source": [
    "import keras.layers as l"
   ]
  },
  {
   "cell_type": "code",
   "execution_count": null,
   "metadata": {},
   "outputs": [],
   "source": [
    "layers = [\n",
    "    l.Input((200,)),\n",
    "    l.Dense(1024, activation=\"relu\"),\n",
    "    l.Dense(296, activation=\"relu\"),\n",
    "    l.Dense(10),\n",
    "    l.Softmax()  # man kann auch  Activations als Layers instanzieren\n",
    "]\n",
    "\n",
    "model = keras.Sequential(layers=layers)\n",
    "\n",
    "model.compile(\n",
    "    optimizer=keras.optimizers.Adam(learning_rate=1e-3),\n",
    "    loss=keras.losses.CategoricalCrossentropy(),  # multiclass classifications\n",
    "    metrics=[\n",
    "        keras.metrics.F1Score(),\n",
    "        keras.metrics.Accuracy(),\n",
    "    ],\n",
    ")\n",
    "model.summary()"
   ]
  },
  {
   "cell_type": "code",
   "execution_count": null,
   "metadata": {},
   "outputs": [],
   "source": [
    "model2 = keras.Sequential()\n",
    "model2.add(l.Input((200,)))\n",
    "model2.add(l.Dense(1024, activation=\"relu\"))\n",
    "model2.add(l.Dense(296, activation=\"relu\"))\n",
    "model2.add(l.Dense(10))\n",
    "model2.add(l.Softmax())\n",
    "\n",
    "model2.compile(\n",
    "    optimizer=keras.optimizers.Adam(learning_rate=1e-3),\n",
    "    loss=keras.losses.CategoricalCrossentropy(),  # multiclass classifications, one hot encoding\n",
    "    metrics=[\n",
    "        keras.metrics.F1Score(),\n",
    "        keras.metrics.Accuracy(),\n",
    "    ],\n",
    ")\n",
    "\n",
    "model2.summary()"
   ]
  },
  {
   "cell_type": "markdown",
   "metadata": {},
   "source": [
    "# Functional API"
   ]
  },
  {
   "cell_type": "code",
   "execution_count": null,
   "metadata": {},
   "outputs": [],
   "source": [
    "inputs = l.Input((200,))\n",
    "features = l.Dense(1024, activation=\"relu\") (inputs)\n",
    "features = l.Dense(296, activation=\"relu\") (features)\n",
    "features = l.Dense(10) (features)\n",
    "outs = l.Softmax() (features)\n",
    "\n",
    "model_functional = keras.Model(inputs=inputs, outputs=outs, name=\"model_functional\")\n",
    "\n",
    "model_functional.compile(\n",
    "    optimizer=keras.optimizers.Adam(learning_rate=1e-3),\n",
    "    loss=keras.losses.CategoricalCrossentropy(),  # multiclass classifications, one hot encoding\n",
    "    metrics=[\n",
    "        keras.metrics.F1Score(),\n",
    "        keras.metrics.Accuracy(),\n",
    "    ],\n",
    ")\n",
    "\n",
    "model_functional.summary()"
   ]
  },
  {
   "cell_type": "markdown",
   "metadata": {},
   "source": [
    "# Model Subclassing\n",
    "Im Buch wird auch noch die Möglichkeit gezeigt, wie man eine subklasse von Model erstellen, durch vVererbung. Tatsächlich ist diese Methode aber weniger mächtig als\n",
    "die Funtional API da man nicht auf die einezelnen Ausgaben der Layer _auserhalb_ von dem Forwardpass zugreifen kann. Das ist limietierend insofern man dies braucht. \n",
    "\n",
    "Aus meiner Praxiserfahrung wird das subclassing fast nie verwendet, da auch der Setup wesentlich anders ist als in den beiden anderen fällen."
   ]
  },
  {
   "cell_type": "code",
   "execution_count": null,
   "metadata": {},
   "outputs": [],
   "source": [
    "import tensorflow as tf\n",
    "from tensorflow import keras\n",
    "from tensorflow.keras import layers as l\n",
    "\n",
    "class Model3(keras.Model):\n",
    "    def __init__(self):\n",
    "        super(Model3, self).__init__()\n",
    "        self.input_layer = l.InputLayer(input_shape=(200,))\n",
    "        self.dense1 = l.Dense(1024, activation=\"relu\")\n",
    "        self.dense2 = l.Dense(296, activation=\"relu\")\n",
    "        self.dense3 = l.Dense(10)\n",
    "        self.softmax = l.Softmax()\n",
    "\n",
    "    def call(self, inputs):\n",
    "        x = self.input_layer(inputs)\n",
    "        x = self.dense1(inputs)\n",
    "        x = self.dense2(x)\n",
    "        x = self.dense3(x)\n",
    "        outputs = self.softmax(x)\n",
    "        return outputs\n",
    "\n",
    "# Create an instance of the model\n",
    "model3 = Model3()"
   ]
  },
  {
   "cell_type": "code",
   "execution_count": null,
   "metadata": {},
   "outputs": [],
   "source": [
    "model3.compile(\n",
    "    optimizer=keras.optimizers.Adam(learning_rate=1e-3),\n",
    "    loss=keras.losses.CategoricalCrossentropy(),  # multiclass classifications, one hot encoding\n",
    "    metrics=[\n",
    "        keras.metrics.F1Score(),\n",
    "        keras.metrics.Accuracy(),\n",
    "    ],\n",
    ")\n",
    "model3.summary()"
   ]
  }
 ],
 "metadata": {
  "kernelspec": {
   "display_name": "tf-backend",
   "language": "python",
   "name": "python3"
  },
  "language_info": {
   "codemirror_mode": {
    "name": "ipython",
    "version": 3
   },
   "file_extension": ".py",
   "mimetype": "text/x-python",
   "name": "python",
   "nbconvert_exporter": "python",
   "pygments_lexer": "ipython3",
   "version": "3.11.8"
  }
 },
 "nbformat": 4,
 "nbformat_minor": 2
}
